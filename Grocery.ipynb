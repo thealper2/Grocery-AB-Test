{
 "cells": [
  {
   "cell_type": "markdown",
   "id": "75f7a421-4e0c-4cec-9181-5eec1efd43b2",
   "metadata": {},
   "source": [
    "# Import Libraries"
   ]
  },
  {
   "cell_type": "code",
   "execution_count": null,
   "id": "1e3dd4ae-c89b-4a3b-b6c5-ed252a1240d2",
   "metadata": {},
   "outputs": [],
   "source": [
    "import numpy as np\n",
    "import pandas as pd\n",
    "import seaborn as sns\n",
    "import matplotlib.pyplot as plt\n",
    "import io\n",
    "\n",
    "sns.set_style(\"whitegrid\")\n",
    "pd.set_option(\"display.max_colwidth\", None)\n",
    "pd.set_option(\"display.float_format\", lambda x: \"%.2f\" % x)\n",
    "\n",
    "import statsmodels.stats.api as sm\n",
    "from scipy.stats import shapiro, levene, mannwhitneyu\n",
    "\n",
    "from IPython.display import Markdown\n",
    "\n",
    "def bold(string):\n",
    "    display(Markdown(string))\n",
    "\n",
    "import warnings\n",
    "warnings.filterwarnings(\"ignore\")"
   ]
  },
  {
   "cell_type": "markdown",
   "id": "e85710e0-1154-49c0-8143-fee7273aa5e3",
   "metadata": {},
   "source": [
    "# Load Data"
   ]
  },
  {
   "cell_type": "code",
   "execution_count": null,
   "id": "ec7f0e8d-bd1e-4ded-b364-7b50a8f9e0b4",
   "metadata": {},
   "outputs": [],
   "source": [
    "df_ = pd.read_csv(\"/mnt/hdd/Datasets/grocerywebsiteabtestdata.csv\")\n",
    "df = df_.copy()\n",
    "df.head()"
   ]
  },
  {
   "cell_type": "code",
   "execution_count": null,
   "id": "d323607e-3c72-4130-bc8b-47664454dcd2",
   "metadata": {},
   "outputs": [],
   "source": [
    "def df_stats(data):\n",
    "    print(\"**\" + \" SHAPE \".center(50, \"#\") + \"**\")\n",
    "    print(\"ROWS: {}\".format(data.shape[0]))\n",
    "    print(\"COLUMNS: {}\".format(data.shape[1]))\n",
    "    bold(\"**\" + \" TYPES \".center(50, \"#\") + \"**\")\n",
    "    print(data.dtypes)\n",
    "    bold(\"**\" + \" MISSING VALUES \".center(50, \"#\") + \"**\")\n",
    "    print(data.isnull().sum())\n",
    "    bold(\"**\" + \" DUPLICATED VALUES \".center(50, \"#\") + \"**\")\n",
    "    print(\"NUMBER OF DUPLICATED VALUES: {}\".format(data.duplicated().sum()))\n",
    "    bold(\"**\" + \" MEMORY USAGE \".center(50, \"#\") + \"**\")\n",
    "    buf = io.StringIO()\n",
    "    data.info(buf=buf)\n",
    "    info = buf.getvalue().split(\"\\n\")[-2].split(\":\")[1].strip()\n",
    "    print(\"Memory Usage: {}\".format(info))\n",
    "    bold(\"**\" + \" DESCRIBE \".center(50, \"#\") + \"**\")\n",
    "    print(data.describe().T)"
   ]
  },
  {
   "cell_type": "code",
   "execution_count": null,
   "id": "ab4f2f0b-a8c3-4a44-85b7-e47260bf2f6e",
   "metadata": {},
   "outputs": [],
   "source": [
    "df_stats(df)"
   ]
  },
  {
   "cell_type": "markdown",
   "id": "65830b4f-541b-4159-8363-7dbd380a923f",
   "metadata": {},
   "source": [
    "# Explorary Data Analysis"
   ]
  },
  {
   "cell_type": "code",
   "execution_count": null,
   "id": "8420bded-d50a-4cbf-b9d2-c5f9f686e35c",
   "metadata": {},
   "outputs": [],
   "source": [
    "df.head()"
   ]
  },
  {
   "cell_type": "code",
   "execution_count": null,
   "id": "4fa5bf9a-bfdb-4434-b71c-0295e9f90391",
   "metadata": {},
   "outputs": [],
   "source": [
    "df[\"LoggedInFlag\"].value_counts()"
   ]
  },
  {
   "cell_type": "code",
   "execution_count": null,
   "id": "70837d9d-4f45-41e3-8cb4-f852f1fa02d8",
   "metadata": {},
   "outputs": [],
   "source": [
    "df[\"ServerID\"].value_counts()"
   ]
  },
  {
   "cell_type": "code",
   "execution_count": null,
   "id": "e4ba44ec-cbd7-4c22-8ee9-05fe8e95a653",
   "metadata": {},
   "outputs": [],
   "source": [
    "df[\"VisitPageFlag\"].value_counts()"
   ]
  },
  {
   "cell_type": "code",
   "execution_count": null,
   "id": "593f6c7c-0155-4af6-84f7-e8af701ffd77",
   "metadata": {},
   "outputs": [],
   "source": [
    "df[\"LoggedInFlag\"].value_counts().plot(kind=\"pie\", autopct=\"%.2f%%\")"
   ]
  },
  {
   "cell_type": "markdown",
   "id": "2a57dcc1-a60f-4e2a-84ad-fe81337e6bd7",
   "metadata": {},
   "source": [
    "# Data Preprocess"
   ]
  },
  {
   "cell_type": "code",
   "execution_count": null,
   "id": "231bad11-b0c3-4759-90e0-f0edcc30a11f",
   "metadata": {},
   "outputs": [],
   "source": [
    "df.drop(\"RecordID\", axis=1, inplace=True)"
   ]
  },
  {
   "cell_type": "code",
   "execution_count": null,
   "id": "0938e2b5-b21d-444e-b2d0-a4f44313b77c",
   "metadata": {},
   "outputs": [],
   "source": [
    "df = df[df[\"LoggedInFlag\"] == 0]\n",
    "df.head()"
   ]
  },
  {
   "cell_type": "code",
   "execution_count": null,
   "id": "b23ea1a5-7e01-4f4d-b035-4600c700a35d",
   "metadata": {},
   "outputs": [],
   "source": [
    "df = df.groupby([\"IP Address\", \"ServerID\"], as_index=False)[\"VisitPageFlag\"].sum()\n",
    "df.head()"
   ]
  },
  {
   "cell_type": "code",
   "execution_count": null,
   "id": "af47bfed-d178-47ff-99e1-53818d142430",
   "metadata": {},
   "outputs": [],
   "source": [
    "df[\"VisitPageFlag\"].min()"
   ]
  },
  {
   "cell_type": "code",
   "execution_count": null,
   "id": "dcec99f0-86c8-45b3-a509-ca62985474ae",
   "metadata": {},
   "outputs": [],
   "source": [
    "df[\"VisitPageFlag\"].max()"
   ]
  },
  {
   "cell_type": "code",
   "execution_count": null,
   "id": "abaa5241-c2b5-4014-8ab7-e730f46dbb5d",
   "metadata": {},
   "outputs": [],
   "source": [
    "df[\"isVisited\"] = df[\"VisitPageFlag\"].apply(lambda x: 1 if x != 0 else 0)"
   ]
  },
  {
   "cell_type": "code",
   "execution_count": null,
   "id": "9888153a-4a18-479f-b62b-12fafec22d4d",
   "metadata": {},
   "outputs": [],
   "source": [
    "df.head()"
   ]
  },
  {
   "cell_type": "code",
   "execution_count": null,
   "id": "14fa54cd-26ff-4af3-b9e6-73c10b73867b",
   "metadata": {},
   "outputs": [],
   "source": [
    "df[\"ServerID\"] = df[\"ServerID\"].map({\n",
    "    1: \"Treatment\",\n",
    "    2: \"Control\",\n",
    "    3: \"Control\"\n",
    "})"
   ]
  },
  {
   "cell_type": "code",
   "execution_count": null,
   "id": "6153bc7e-e2bd-4fe3-abe5-9620ccf66db1",
   "metadata": {},
   "outputs": [],
   "source": [
    "plt.figure()\n",
    "ax = sns.countplot(data=df, x=\"ServerID\")\n",
    "ax.bar_label(ax.containers[0])\n",
    "plt.title(\"Control - Treatment\")\n",
    "plt.show()"
   ]
  },
  {
   "cell_type": "code",
   "execution_count": null,
   "id": "4f3d48b1-ebec-4353-89d7-5beb723ec1e3",
   "metadata": {},
   "outputs": [],
   "source": [
    "treatment = df[df[\"ServerID\"] == \"Treatment\"]\n",
    "control = df[df[\"ServerID\"] == \"Control\"]"
   ]
  },
  {
   "cell_type": "code",
   "execution_count": null,
   "id": "ccdf8926-e3de-49cc-bdc9-862373d67322",
   "metadata": {},
   "outputs": [],
   "source": [
    "treatment.describe().T"
   ]
  },
  {
   "cell_type": "code",
   "execution_count": null,
   "id": "1a0e3843-2aae-417d-8de7-6925741d8b9c",
   "metadata": {},
   "outputs": [],
   "source": [
    "control.describe().T"
   ]
  },
  {
   "cell_type": "markdown",
   "id": "035648b2-bd08-4806-a054-67f2f70281e1",
   "metadata": {},
   "source": [
    "# Hypothesis"
   ]
  },
  {
   "cell_type": "markdown",
   "id": "f27c2974-02be-47d2-b1ee-1ece1a3e9508",
   "metadata": {},
   "source": [
    "- H0: M1 = M2\n",
    "- H1: M1 != M2"
   ]
  },
  {
   "cell_type": "code",
   "execution_count": null,
   "id": "2a857d9b-04cc-4ab6-9048-2bbfa27f3afc",
   "metadata": {},
   "outputs": [],
   "source": [
    "def normality_test(control_group, treatment_group):\n",
    "    ct_stat, cp_value = shapiro(control_group)\n",
    "    print(\"Control Group:\")\n",
    "    print(f\" -T Stat: {ct_stat: .4f}\")\n",
    "    print(f\" -P Value: {cp_value: .4f}\")\n",
    "\n",
    "    tt_stat, tp_value = shapiro(treatment_group)\n",
    "    print(\"\\nTreatment Group:\")\n",
    "    print(f\" -T Stat: {tt_stat: .4f}\")\n",
    "    print(f\" -P Value: {tp_value: .4f}\")"
   ]
  },
  {
   "cell_type": "code",
   "execution_count": null,
   "id": "0bea4d50-c600-47f5-8df4-1331ab796a17",
   "metadata": {},
   "outputs": [],
   "source": [
    "normality_test(control[\"isVisited\"], treatment[\"isVisited\"])"
   ]
  },
  {
   "cell_type": "code",
   "execution_count": null,
   "id": "60c35b5a-465b-4f0b-bd2b-697a4ff24d2b",
   "metadata": {},
   "outputs": [],
   "source": [
    "def levene_test(control_group, treatment_group):\n",
    "    t_stat, p_value = levene(control_group, treatment_group)\n",
    "    print(f\"T Stat: {t_stat: .4f}\")\n",
    "    print(f\"P Value: {p_value: .4f}\")"
   ]
  },
  {
   "cell_type": "code",
   "execution_count": null,
   "id": "30a9fa29-bc0f-4062-a44c-29196ece6d68",
   "metadata": {},
   "outputs": [],
   "source": [
    "levene_test(control[\"isVisited\"], treatment[\"isVisited\"])"
   ]
  },
  {
   "cell_type": "code",
   "execution_count": null,
   "id": "9352975a-46f7-46a5-8d78-62212d973bfa",
   "metadata": {},
   "outputs": [],
   "source": [
    "def mannwhitney_u_test(control_group, treatment_group):\n",
    "    u_stat, p_value = mannwhitneyu(control_group, treatment_group)\n",
    "    print(f\"U Stat: {u_stat: .4f}\")\n",
    "    print(f\"P Value: {p_value: .4f}\")"
   ]
  },
  {
   "cell_type": "code",
   "execution_count": null,
   "id": "832de0fa-5ec3-4488-b517-b52858c609f6",
   "metadata": {},
   "outputs": [],
   "source": [
    "mannwhitney_u_test(control[\"isVisited\"], treatment[\"isVisited\"])"
   ]
  },
  {
   "cell_type": "code",
   "execution_count": null,
   "id": "3deeb2e2-a4b6-452a-aa1f-26e182171ad9",
   "metadata": {},
   "outputs": [],
   "source": [
    "counts = df.groupby(by=[\"ServerID\", \"isVisited\"], as_index=False)[\"VisitPageFlag\"].count()\n",
    "counts"
   ]
  },
  {
   "cell_type": "code",
   "execution_count": null,
   "id": "829f3631-414c-4351-8995-23ce2511b6b8",
   "metadata": {},
   "outputs": [],
   "source": [
    "cross_counts = pd.crosstab(index=counts[\"ServerID\"], columns=counts[\"isVisited\"], values=counts[\"VisitPageFlag\"], aggfunc=np.sum, margins=True)\n",
    "cross_counts"
   ]
  },
  {
   "cell_type": "code",
   "execution_count": null,
   "id": "30e08d0d-935f-4006-9f35-c392f77dd4e2",
   "metadata": {},
   "outputs": [],
   "source": [
    "cross_counts[\"0_Percent%\"] = 100 * (cross_counts[0] / cross_counts[\"All\"])\n",
    "cross_counts[\"1_Percent%\"] = 100 * (cross_counts[1] / cross_counts[\"All\"])\n",
    "cross_counts"
   ]
  },
  {
   "cell_type": "code",
   "execution_count": null,
   "id": "584f0b4e-11df-4b5c-82c8-9ce4ca808207",
   "metadata": {},
   "outputs": [],
   "source": []
  }
 ],
 "metadata": {
  "kernelspec": {
   "display_name": "Python 3 (ipykernel)",
   "language": "python",
   "name": "python3"
  },
  "language_info": {
   "codemirror_mode": {
    "name": "ipython",
    "version": 3
   },
   "file_extension": ".py",
   "mimetype": "text/x-python",
   "name": "python",
   "nbconvert_exporter": "python",
   "pygments_lexer": "ipython3",
   "version": "3.10.12"
  }
 },
 "nbformat": 4,
 "nbformat_minor": 5
}
